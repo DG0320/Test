{
 "cells": [
  {
   "cell_type": "code",
   "execution_count": 1,
   "id": "6a3850c1",
   "metadata": {
    "ExecuteTime": {
     "end_time": "2024-03-31T20:30:35.913629Z",
     "start_time": "2024-03-31T20:30:34.506147Z"
    }
   },
   "outputs": [],
   "source": [
    "import pandas as pd\n",
    "import numpy as np\n",
    "import matplotlib.pyplot as plt\n",
    "import seaborn as sns\n",
    "import plotly.express as px\n",
    "import matplotlib\n",
    "\n",
    "from sklearn.model_selection import train_test_split, GridSearchCV\n",
    "from sklearn.preprocessing import StandardScaler\n",
    "from sklearn.metrics import classification_report, accuracy_score\n",
    "\n",
    "from sklearn.cluster import KMeans\n",
    "\n",
    "from sklearn.tree import DecisionTreeClassifier, plot_tree\n",
    "from sklearn.ensemble import RandomForestClassifier\n",
    "from sklearn import tree\n",
    "import xgboost as xgb\n",
    "import ipywidgets as widgets\n",
    "from IPython.display import display, HTML\n"
   ]
  },
  {
   "cell_type": "code",
   "execution_count": 2,
   "id": "922a15d6",
   "metadata": {
    "ExecuteTime": {
     "end_time": "2024-03-31T20:31:18.260811Z",
     "start_time": "2024-03-31T20:30:35.914484Z"
    },
    "code_folding": [],
    "scrolled": false
   },
   "outputs": [
    {
     "name": "stdout",
     "output_type": "stream",
     "text": [
      "Fitting 3 folds for each of 2187 candidates, totalling 6561 fits\n",
      "Best parameters: {'colsample_bytree': 0.6, 'gamma': 0.5, 'learning_rate': 0.1, 'max_depth': 4, 'min_child_weight': 1, 'n_estimators': 100, 'subsample': 0.6}\n",
      "Best cross-validation score: 0.9626047711154094\n",
      "Improved XGB Accuracy Train: 0.98130\n",
      "Improved XGB Accuracy Test: 0.95361\n"
     ]
    }
   ],
   "source": [
    "# Load the three CSV files\n",
    "active_startups = pd.read_csv('active-20mm-startups-hult-project.csv')\n",
    "closed_startups = pd.read_csv('closed-startups-hult-project.csv')\n",
    "exited_startups = pd.read_csv('exited-20mm-sartups-hult-project.csv')\n",
    "\n",
    "# Add a new column 'Status' with values based on the file they came from\n",
    "active_startups['Status'] = 'Active'\n",
    "closed_startups['Status'] = 'Closed'\n",
    "exited_startups['Status'] = 'Exited'\n",
    "\n",
    "# Merge all three datasets\n",
    "merged_df = pd.concat([active_startups, closed_startups, exited_startups])\n",
    "\n",
    "# Add a new column 'Success_or_Unsuccess' with values 1 for 'Active' and 'Exited', 0 for 'Closed'\n",
    "merged_df['Success_or_Unsuccess'] = merged_df['Status'].apply(lambda x: 1 if x in ['Active', 'Exited'] else 0)\n",
    "\n",
    "# Generate a range of potential unique numbers\n",
    "potential_fill_values = range(int(merged_df['CB Rank (Company)'].str.replace(',', '').astype(float).max()) + 1, \n",
    "                              int(merged_df['CB Rank (Company)'].str.replace(',', '').astype(float).max()) + 10001)\n",
    "\n",
    "# Identify the first number in this range not present in the column\n",
    "for value in potential_fill_values:\n",
    "    if not merged_df['CB Rank (Company)'].str.replace(',', '').astype(float).eq(value).any():\n",
    "        fill_value = value\n",
    "        break\n",
    "\n",
    "# Fill NaN values with the identified unique number and convert to integer\n",
    "merged_df['CB Rank (Company)'] = merged_df['CB Rank (Company)'].str.replace(',', '').astype(float).fillna(fill_value).astype(int)\n",
    "\n",
    "\n",
    "merged_df['Founded Year'] = pd.to_datetime(merged_df['Founded Date'], errors='coerce').dt.year\n",
    "# Extract year from 'Last Funding Date' and create a new column 'Last Funding Year'\n",
    "merged_df['Last Funding Year'] = pd.to_datetime(merged_df['Last Funding Date'], errors='coerce').dt.year\n",
    "\n",
    "# Split 'Headquarters Location' into separate columns for City, State, and Country\n",
    "location_split = merged_df['Headquarters Location'].str.split(', ', expand=True)\n",
    "\n",
    "# Assign new columns based on split - ensuring compatibility with different location formats\n",
    "merged_df['City'] = location_split[0]\n",
    "merged_df['State'] = location_split[1] if location_split.shape[1] > 1 else None\n",
    "merged_df['Country'] = location_split[2] if location_split.shape[1] > 2 else location_split[1]\n",
    "# Fill NA values in 'Number of Founders' and 'Founders' with 0 and 'Unknown' respectively\n",
    "merged_df['Number of Founders'] = merged_df['Number of Founders'].fillna(0)\n",
    "merged_df['Founders'] = merged_df['Founders'].fillna('Unknown')\n",
    "merged_df['Number of Employees'] = merged_df['Number of Employees'].fillna('Unknown')\n",
    "merged_df['Founded Year'] = merged_df['Founded Year'].fillna(merged_df['Founded Year'].median())\n",
    "merged_df['Founded Year'] = merged_df['Founded Year'].astype('int32')\n",
    "\n",
    "\n",
    "\n",
    "# Fill missing values in 'Funding Status' with the corresponding value from 'Last Funding Type'\n",
    "merged_df['Funding Status'].fillna(merged_df['Last Funding Type'], inplace=True)\n",
    "\n",
    "\n",
    "# Fill missing values in 'Last Equity Funding Amount Currency (in USD)' with 0\n",
    "merged_df['Last Equity Funding Amount Currency (in USD)'].fillna(0, inplace=True)\n",
    "\n",
    "\n",
    "# Fill missing values in 'Total Equity Funding Amount Currency (in USD)' with 0\n",
    "merged_df['Total Equity Funding Amount Currency (in USD)'].fillna(0, inplace=True)\n",
    "\n",
    "# Fill missing values in 'Total Funding Amount Currency (in USD)' with 0\n",
    "merged_df['Total Funding Amount Currency (in USD)'].fillna(0, inplace=True)\n",
    "\n",
    "\n",
    "# Fill missing values in 'Last Funding Amount Currency (in USD)' with 0\n",
    "merged_df['Last Funding Amount Currency (in USD)'].fillna(0, inplace=True)\n",
    "\n",
    "\n",
    "selected_columns_tree = ['CB Rank (Company)',\n",
    "    'Founded Year', 'Number of Employees', 'State',\n",
    "    'Number of Founders', 'Number of Funding Rounds', 'Last Funding Year',\n",
    "     'Last Funding Type',\n",
    "     'Success_or_Unsuccess'\n",
    "]\n",
    "model_tree_df = merged_df[selected_columns_tree]\n",
    "\n",
    "# Selecting object columns\n",
    "object_cols = ['Number of Employees','State','Last Funding Type']\n",
    "\n",
    "# Apply one-hot encoding to the categorical variables\n",
    "model_tree_df_encoded = pd.get_dummies(model_tree_df, columns=object_cols)\n",
    "\n",
    "\n",
    "\n",
    "# Preparing the dataset for training\n",
    "X = model_tree_df_encoded.drop(['Success_or_Unsuccess'], axis=1)\n",
    "y = model_tree_df_encoded['Success_or_Unsuccess']\n",
    "\n",
    "# Splitting the dataset into training and test sets\n",
    "X_train, X_test, y_train, y_test = train_test_split(X, y, test_size=0.2, random_state=42)\n",
    "\n",
    "\n",
    "# Define the parameter grid\n",
    "param_grid = {\n",
    "    'n_estimators': [100, 200, 300],\n",
    "    'learning_rate': [0.01, 0.1, 0.2],\n",
    "    'max_depth': [3, 4, 5],\n",
    "    'min_child_weight': [1, 5, 10],\n",
    "    'gamma': [0.5, 1, 1.5],\n",
    "    'subsample': [0.6, 0.8, 1.0],\n",
    "    'colsample_bytree': [0.6, 0.8, 1.0],\n",
    "}\n",
    "\n",
    "# Initialize the grid search model\n",
    "grid_search = GridSearchCV(estimator=xgb.XGBClassifier(use_label_encoder=False, eval_metric='logloss'),\n",
    "                           param_grid=param_grid, \n",
    "                           scoring='accuracy', \n",
    "                           cv=3, \n",
    "                           verbose=1, \n",
    "                           n_jobs=-1)\n",
    "\n",
    "# Fit the grid search to the data\n",
    "grid_search.fit(X_train, y_train)\n",
    "\n",
    "# Best parameters and score\n",
    "best_params = grid_search.best_params_\n",
    "best_score = grid_search.best_score_\n",
    "print(\"Best parameters:\", best_params)\n",
    "print(\"Best cross-validation score:\", best_score)\n",
    "\n",
    "# Retraining with best parameters\n",
    "xgb_clf_best = xgb.XGBClassifier(**best_params, use_label_encoder=False, eval_metric='logloss')\n",
    "xgb_clf_best.fit(X_train, y_train)\n",
    "\n",
    "# Evaluate the improved model\n",
    "y_train_pred_best = xgb_clf_best.predict(X_train)\n",
    "y_test_pred_best = xgb_clf_best.predict(X_test)\n",
    "\n",
    "accuracy_train_best = accuracy_score(y_train, y_train_pred_best)\n",
    "accuracy_test_best = accuracy_score(y_test, y_test_pred_best)\n",
    "\n",
    "print(f\"Improved XGB Accuracy Train: {accuracy_train_best:.5f}\")\n",
    "print(f\"Improved XGB Accuracy Test: {accuracy_test_best:.5f}\")\n",
    "\n"
   ]
  },
  {
   "cell_type": "code",
   "execution_count": 12,
   "id": "726a91b9",
   "metadata": {
    "ExecuteTime": {
     "end_time": "2024-03-31T20:38:29.300628Z",
     "start_time": "2024-03-31T20:38:29.255927Z"
    },
    "code_folding": [],
    "scrolled": false
   },
   "outputs": [
    {
     "data": {
      "text/html": [
       "\n",
       "<style>\n",
       "    .widget-label { width: 25ex !important; }\n",
       "</style>\n"
      ],
      "text/plain": [
       "<IPython.core.display.HTML object>"
      ]
     },
     "metadata": {},
     "output_type": "display_data"
    },
    {
     "data": {
      "application/vnd.jupyter.widget-view+json": {
       "model_id": "593f39852b1b4ffcb999c69895ff5972",
       "version_major": 2,
       "version_minor": 0
      },
      "text/plain": [
       "IntText(value=0, description='CB Rank (Company):', style=DescriptionStyle(description_width='initial'))"
      ]
     },
     "metadata": {},
     "output_type": "display_data"
    },
    {
     "data": {
      "application/vnd.jupyter.widget-view+json": {
       "model_id": "fbe37764588e4148902b0d97376dbfba",
       "version_major": 2,
       "version_minor": 0
      },
      "text/plain": [
       "IntText(value=0, description='Founded Year:', style=DescriptionStyle(description_width='initial'))"
      ]
     },
     "metadata": {},
     "output_type": "display_data"
    },
    {
     "data": {
      "application/vnd.jupyter.widget-view+json": {
       "model_id": "d95efc006f144dd6ac1c0b31d8f5630d",
       "version_major": 2,
       "version_minor": 0
      },
      "text/plain": [
       "IntText(value=0, description='Number of Founders:', style=DescriptionStyle(description_width='initial'))"
      ]
     },
     "metadata": {},
     "output_type": "display_data"
    },
    {
     "data": {
      "application/vnd.jupyter.widget-view+json": {
       "model_id": "e150be04972b4ca394943e31be369c52",
       "version_major": 2,
       "version_minor": 0
      },
      "text/plain": [
       "IntText(value=0, description='Number of Funding Rounds:', style=DescriptionStyle(description_width='initial'))"
      ]
     },
     "metadata": {},
     "output_type": "display_data"
    },
    {
     "data": {
      "application/vnd.jupyter.widget-view+json": {
       "model_id": "052816a04d5148628b7e8dfcdb4eb986",
       "version_major": 2,
       "version_minor": 0
      },
      "text/plain": [
       "IntText(value=0, description='Last Funding Year:', style=DescriptionStyle(description_width='initial'))"
      ]
     },
     "metadata": {},
     "output_type": "display_data"
    },
    {
     "data": {
      "application/vnd.jupyter.widget-view+json": {
       "model_id": "a5d171db927743c1990a19b322b93d6f",
       "version_major": 2,
       "version_minor": 0
      },
      "text/plain": [
       "Dropdown(description='Number of Employees:', options=('1-10', '11-50', '51-100', '101-250', '251-500', '501-10…"
      ]
     },
     "metadata": {},
     "output_type": "display_data"
    },
    {
     "data": {
      "application/vnd.jupyter.widget-view+json": {
       "model_id": "ae5ed6fb476841f0b8c2937dc5f3bbcd",
       "version_major": 2,
       "version_minor": 0
      },
      "text/plain": [
       "Dropdown(description='State:', options=('Alabama', 'Alaska', 'Arizona', 'Arkansas', 'California', 'Colorado', …"
      ]
     },
     "metadata": {},
     "output_type": "display_data"
    },
    {
     "data": {
      "application/vnd.jupyter.widget-view+json": {
       "model_id": "8c61ff7b906b446da51e166ae2661425",
       "version_major": 2,
       "version_minor": 0
      },
      "text/plain": [
       "Dropdown(description='Last Funding Type:', options=('Angel', 'Convertible Note', 'Corporate Round', 'Debt Fina…"
      ]
     },
     "metadata": {},
     "output_type": "display_data"
    },
    {
     "data": {
      "application/vnd.jupyter.widget-view+json": {
       "model_id": "01ad32f467524a3c90f649c05009afb4",
       "version_major": 2,
       "version_minor": 0
      },
      "text/plain": [
       "Button(description='Predict', style=ButtonStyle())"
      ]
     },
     "metadata": {},
     "output_type": "display_data"
    },
    {
     "name": "stdout",
     "output_type": "stream",
     "text": [
      "Prediction Result: Success\n"
     ]
    }
   ],
   "source": [
    "# Custom CSS to increase the width of the description field of the widgets\n",
    "display(\n",
    "    HTML(\"\"\"\n",
    "<style>\n",
    "    .widget-label { width: 25ex !important; }\n",
    "</style>\n",
    "\"\"\"))\n",
    "\n",
    "# Creating widgets for each input variable\n",
    "CB_Rank_widget = widgets.IntText(description='CB Rank (Company):',\n",
    "                                 style={'description_width': 'initial'})\n",
    "Founded_Year_widget = widgets.IntText(description='Founded Year:',\n",
    "                                      style={'description_width': 'initial'})\n",
    "Number_of_Founders_widget = widgets.IntText(\n",
    "    description='Number of Founders:', style={'description_width': 'initial'})\n",
    "Number_of_Funding_Rounds_widget = widgets.IntText(\n",
    "    description='Number of Funding Rounds:',\n",
    "    style={'description_width': 'initial'})\n",
    "Last_Funding_Year_widget = widgets.IntText(\n",
    "    description='Last Funding Year:', style={'description_width': 'initial'})\n",
    "\n",
    "Number_of_Employees_widget = widgets.Dropdown(\n",
    "    options=[\n",
    "        '1-10', '11-50', '51-100', '101-250', '251-500', '501-1000',\n",
    "        '1001-5000', '5001-10000', '10001+',\n",
    "        'Unknown'\n",
    "    ],\n",
    "    description='Number of Employees:',\n",
    "    style={'description_width': 'initial'})\n",
    "State_widget = widgets.Dropdown(options=[\n",
    "    'Alabama', 'Alaska', 'Arizona', 'Arkansas', 'California', 'Colorado',\n",
    "    'Connecticut', 'Delaware', 'District of Columbia', 'Florida', 'Georgia',\n",
    "    'Hawaii', 'Idaho', 'Illinois', 'Indiana', 'Iowa', 'Kansas', 'Kentucky',\n",
    "    'Louisiana', 'Maine', 'Maryland', 'Massachusetts', 'Michigan', 'Minnesota',\n",
    "    'Mississippi', 'Missouri', 'Montana', 'Nebraska', 'Nevada',\n",
    "    'New Hampshire', 'New Jersey', 'New Mexico', 'New York', 'North Carolina',\n",
    "    'Ohio', 'Oklahoma', 'Oregon', 'Pennsylvania', 'Rhode Island',\n",
    "    'South Carolina', 'South Dakota', 'Tennessee', 'Texas', 'Utah', 'Vermont',\n",
    "    'Virginia', 'Washington', 'Wisconsin', 'Wyoming'\n",
    "],\n",
    "                                description='State:',\n",
    "                                style={'description_width': 'initial'})\n",
    "\n",
    "\n",
    "Last_Funding_Type_widget = widgets.Dropdown(\n",
    "    options=[\n",
    "    'Angel', 'Convertible Note', 'Corporate Round', 'Debt Financing',\n",
    "    'Equity Crowdfunding', 'Grant', 'Non-equity Assistance', 'Post-IPO Debt',\n",
    "    'Post-IPO Equity', 'Post-IPO Secondary', 'Pre-Seed', 'Private Equity',\n",
    "    'Product Crowdfunding', 'Secondary Market', 'Seed', 'Series A', 'Series B',\n",
    "    'Series C', 'Series D', 'Series E', 'Series F', 'Undisclosed',\n",
    "    'Venture - Series Unknown'\n",
    "],\n",
    "    description='Last Funding Type:',\n",
    "    style={'description_width': 'initial'})\n",
    "\n",
    "# Button for prediction\n",
    "predict_button = widgets.Button(description=\"Predict\")\n",
    "\n",
    "# Display the widgets\n",
    "widgets_to_display = [\n",
    "    CB_Rank_widget, Founded_Year_widget,Number_of_Founders_widget, Number_of_Funding_Rounds_widget,\n",
    "    Last_Funding_Year_widget, Number_of_Employees_widget,\n",
    "    State_widget, Last_Funding_Type_widget, predict_button\n",
    "]\n",
    "\n",
    "# Function to handle the click event of the predict button\n",
    "def on_predict_button_clicked(b):\n",
    "    # Updating the encoded lists according to the current widget values\n",
    "    user_selected_state = State_widget.value\n",
    "    state_encoded_list = [0] * len(states_list)\n",
    "    if user_selected_state in states_list:\n",
    "        index = states_list.index(user_selected_state)\n",
    "        state_encoded_list[index] = 1\n",
    "\n",
    "    user_selected_Number_of_Employees = Number_of_Employees_widget.value\n",
    "    number_of_employees_encoded_list = [0] * len(number_of_employees_list)\n",
    "    if user_selected_Number_of_Employees in number_of_employees_list:\n",
    "        index = number_of_employees_list.index(user_selected_Number_of_Employees)\n",
    "        number_of_employees_encoded_list[index] = 1\n",
    "\n",
    "    user_selected_Last_Funding_Type = Last_Funding_Type_widget.value\n",
    "    last_funding_type_encoded_list = [0] * len(last_funding_type_list)\n",
    "    if user_selected_Last_Funding_Type in last_funding_type_list:\n",
    "        index = last_funding_type_list.index(user_selected_Last_Funding_Type)\n",
    "        last_funding_type_encoded_list[index] = 1\n",
    "\n",
    "    # Updating the non-encoded values according to the current widget values\n",
    "    cb_rank = CB_Rank_widget.value\n",
    "    founded_year = Founded_Year_widget.value\n",
    "    number_of_founders = Number_of_Founders_widget.value\n",
    "    number_of_funding_rounds = Number_of_Funding_Rounds_widget.value\n",
    "    last_funding_year = Last_Funding_Year_widget.value\n",
    "\n",
    "    # Combine user inputs and encoded lists into a single list for the model\n",
    "    model_input_vector = [\n",
    "        cb_rank,\n",
    "        founded_year,\n",
    "        number_of_founders,\n",
    "        number_of_funding_rounds,\n",
    "        last_funding_year\n",
    "    ] + number_of_employees_encoded_list + state_encoded_list + last_funding_type_encoded_list\n",
    "    \n",
    "    # Reshape the input vector to match what the model expects ([n_samples, n_features])\n",
    "    model_input = [model_input_vector]\n",
    "    \n",
    "    # Make the prediction\n",
    "    prediction = xgb_clf_best.predict(model_input)\n",
    "    \n",
    "    # Interpret and print the prediction result\n",
    "    prediction_result = \"Success\" if prediction[0] == 1 else \"Not Success\"\n",
    "    print(f\"Prediction Result: {prediction_result}\")\n",
    "\n",
    "# Attach the event handler to the predict button\n",
    "predict_button.on_click(on_predict_button_clicked)\n",
    "\n",
    "# Display the widgets\n",
    "for widget in widgets_to_display:\n",
    "    display(widget)"
   ]
  }
 ],
 "metadata": {
  "hide_input": false,
  "kernelspec": {
   "display_name": "Python 3 (ipykernel)",
   "language": "python",
   "name": "python3"
  },
  "language_info": {
   "codemirror_mode": {
    "name": "ipython",
    "version": 3
   },
   "file_extension": ".py",
   "mimetype": "text/x-python",
   "name": "python",
   "nbconvert_exporter": "python",
   "pygments_lexer": "ipython3",
   "version": "3.11.5"
  },
  "nbTranslate": {
   "displayLangs": [
    "*"
   ],
   "hotkey": "alt-t",
   "langInMainMenu": true,
   "sourceLang": "en",
   "targetLang": "fr",
   "useGoogleTranslate": true
  },
  "toc": {
   "base_numbering": 1,
   "nav_menu": {},
   "number_sections": true,
   "sideBar": true,
   "skip_h1_title": false,
   "title_cell": "Table of Contents",
   "title_sidebar": "Contents",
   "toc_cell": false,
   "toc_position": {},
   "toc_section_display": true,
   "toc_window_display": false
  },
  "varInspector": {
   "cols": {
    "lenName": 16,
    "lenType": 16,
    "lenVar": 40
   },
   "kernels_config": {
    "python": {
     "delete_cmd_postfix": "",
     "delete_cmd_prefix": "del ",
     "library": "var_list.py",
     "varRefreshCmd": "print(var_dic_list())"
    },
    "r": {
     "delete_cmd_postfix": ") ",
     "delete_cmd_prefix": "rm(",
     "library": "var_list.r",
     "varRefreshCmd": "cat(var_dic_list()) "
    }
   },
   "types_to_exclude": [
    "module",
    "function",
    "builtin_function_or_method",
    "instance",
    "_Feature"
   ],
   "window_display": false
  }
 },
 "nbformat": 4,
 "nbformat_minor": 5
}
